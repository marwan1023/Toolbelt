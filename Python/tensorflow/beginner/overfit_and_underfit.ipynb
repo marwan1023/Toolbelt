{
 "cells": [
  {
   "cell_type": "markdown",
   "metadata": {
    "colab_type": "text",
    "id": "fTFj8ft5dlbS"
   },
   "source": [
    "##### Copyright 2018 The TensorFlow Authors."
   ]
  },
  {
   "cell_type": "code",
   "execution_count": 1,
   "metadata": {
    "cellView": "form",
    "colab": {},
    "colab_type": "code",
    "id": "lzyBOpYMdp3F"
   },
   "outputs": [],
   "source": [
    "#@title Licensed under the Apache License, Version 2.0 (the \"License\");\n",
    "# you may not use this file except in compliance with the License.\n",
    "# You may obtain a copy of the License at\n",
    "#\n",
    "# https://www.apache.org/licenses/LICENSE-2.0\n",
    "#\n",
    "# Unless required by applicable law or agreed to in writing, software\n",
    "# distributed under the License is distributed on an \"AS IS\" BASIS,\n",
    "# WITHOUT WARRANTIES OR CONDITIONS OF ANY KIND, either express or implied.\n",
    "# See the License for the specific language governing permissions and\n",
    "# limitations under the License."
   ]
  },
  {
   "cell_type": "code",
   "execution_count": 2,
   "metadata": {
    "cellView": "form",
    "colab": {},
    "colab_type": "code",
    "id": "m_x4KfSJ7Vt7"
   },
   "outputs": [],
   "source": [
    "#@title MIT License\n",
    "#\n",
    "# Copyright (c) 2017 François Chollet\n",
    "#\n",
    "# Permission is hereby granted, free of charge, to any person obtaining a\n",
    "# copy of this software and associated documentation files (the \"Software\"),\n",
    "# to deal in the Software without restriction, including without limitation\n",
    "# the rights to use, copy, modify, merge, publish, distribute, sublicense,\n",
    "# and/or sell copies of the Software, and to permit persons to whom the\n",
    "# Software is furnished to do so, subject to the following conditions:\n",
    "#\n",
    "# The above copyright notice and this permission notice shall be included in\n",
    "# all copies or substantial portions of the Software.\n",
    "#\n",
    "# THE SOFTWARE IS PROVIDED \"AS IS\", WITHOUT WARRANTY OF ANY KIND, EXPRESS OR\n",
    "# IMPLIED, INCLUDING BUT NOT LIMITED TO THE WARRANTIES OF MERCHANTABILITY,\n",
    "# FITNESS FOR A PARTICULAR PURPOSE AND NONINFRINGEMENT. IN NO EVENT SHALL\n",
    "# THE AUTHORS OR COPYRIGHT HOLDERS BE LIABLE FOR ANY CLAIM, DAMAGES OR OTHER\n",
    "# LIABILITY, WHETHER IN AN ACTION OF CONTRACT, TORT OR OTHERWISE, ARISING\n",
    "# FROM, OUT OF OR IN CONNECTION WITH THE SOFTWARE OR THE USE OR OTHER\n",
    "# DEALINGS IN THE SOFTWARE."
   ]
  },
  {
   "cell_type": "markdown",
   "metadata": {
    "colab_type": "text",
    "id": "C9HmC2T4ld5B"
   },
   "source": [
    "# Explore overfit and underfit"
   ]
  },
  {
   "cell_type": "markdown",
   "metadata": {
    "colab_type": "text",
    "id": "kRTxFhXAlnl1"
   },
   "source": [
    "<table class=\"tfo-notebook-buttons\" align=\"left\">\n",
    "  <td>\n",
    "    <a target=\"_blank\" href=\"https://www.tensorflow.org/tutorials/keras/overfit_and_underfit\"><img src=\"https://www.tensorflow.org/images/tf_logo_32px.png\" />View on TensorFlow.org</a>\n",
    "  </td>\n",
    "  <td>\n",
    "    <a target=\"_blank\" href=\"https://colab.research.google.com/github/tensorflow/docs/blob/master/site/en/tutorials/keras/overfit_and_underfit.ipynb\"><img src=\"https://www.tensorflow.org/images/colab_logo_32px.png\" />Run in Google Colab</a>\n",
    "  </td>\n",
    "  <td>\n",
    "    <a target=\"_blank\" href=\"https://github.com/tensorflow/docs/blob/master/site/en/tutorials/keras/overfit_and_underfit.ipynb\"><img src=\"https://www.tensorflow.org/images/GitHub-Mark-32px.png\" />View source on GitHub</a>\n",
    "  </td>\n",
    "  <td>\n",
    "    <a href=\"https://storage.googleapis.com/tensorflow_docs/docs/site/en/tutorials/keras/overfit_and_underfit.ipynb\"><img src=\"https://www.tensorflow.org/images/download_logo_32px.png\" />Download notebook</a>\n",
    "  </td>\n",
    "</table>"
   ]
  },
  {
   "cell_type": "markdown",
   "metadata": {
    "colab_type": "text",
    "id": "19rPukKZsPG6"
   },
   "source": [
    "As always, the code in this example will use the `tf.keras` API, which you can learn more about in the TensorFlow [Keras guide](https://www.tensorflow.org/guide/keras).\n",
    "\n",
    "In both of the previous examples—classifying movie reviews and predicting fuel efficiency—we saw that the accuracy of our model on the validation data would peak after training for a number of epochs, and would then start decreasing.\n",
    "\n",
    "In other words, our model would *overfit* to the training data. Learning how to deal with overfitting is important. Although it's often possible to achieve high accuracy on the *training set*, what we really want is to develop models that generalize well to a *testing set* (or data they haven't seen before).\n",
    "\n",
    "The opposite of overfitting is *underfitting*. Underfitting occurs when there is still room for improvement on the test data. This can happen for a number of reasons: If the model is not powerful enough, is over-regularized, or has simply not been trained long enough. This means the network has not learned the relevant patterns in the training data.\n",
    "\n",
    "If you train for too long though, the model will start to overfit and learn patterns from the training data that don't generalize to the test data. We need to strike a balance. Understanding how to train for an appropriate number of epochs as we'll explore below is a useful skill.\n",
    "\n",
    "To prevent overfitting, the best solution is to use more training data. A model trained on more data will naturally generalize better. When that is no longer possible, the next best solution is to use techniques like regularization. These place constraints on the quantity and type of information your model can store.  If a network can only afford to memorize a small number of patterns, the optimization process will force it to focus on the most prominent patterns, which have a better chance of generalizing well.\n",
    "\n",
    "In this notebook, we'll explore two common regularization techniques—weight regularization and dropout—and use them to improve our IMDB movie review classification notebook."
   ]
  },
  {
   "cell_type": "code",
   "execution_count": 3,
   "metadata": {
    "colab": {},
    "colab_type": "code",
    "id": "5pZ8A2liqvgk"
   },
   "outputs": [
    {
     "name": "stdout",
     "output_type": "stream",
     "text": [
      "2.1.0-dev20191203\n"
     ]
    }
   ],
   "source": [
    "from __future__ import absolute_import, division, print_function, unicode_literals\n",
    "\n",
    "try:\n",
    "  # %tensorflow_version only exists in Colab.\n",
    "  %tensorflow_version 2.x\n",
    "except Exception:\n",
    "  pass\n",
    "import tensorflow as tf\n",
    "from tensorflow import keras\n",
    "\n",
    "import numpy as np\n",
    "import matplotlib.pyplot as plt\n",
    "\n",
    "print(tf.__version__)"
   ]
  },
  {
   "cell_type": "markdown",
   "metadata": {
    "colab_type": "text",
    "id": "1cweoTiruj8O"
   },
   "source": [
    "## Download the IMDB dataset\n",
    "\n",
    "Rather than using an embedding as in the previous notebook, here we will multi-hot encode the sentences. This model will quickly overfit to the training set. It will be used to demonstrate when overfitting occurs, and how to fight it.\n",
    "\n",
    "Multi-hot-encoding our lists means turning them into vectors of 0s and 1s. Concretely, this would mean for instance turning the sequence  `[3, 5]` into a 10,000-dimensional vector that would be all-zeros except for indices 3 and 5, which would be ones."
   ]
  },
  {
   "cell_type": "code",
   "execution_count": 4,
   "metadata": {
    "colab": {},
    "colab_type": "code",
    "id": "QpzE4iqZtJly"
   },
   "outputs": [
    {
     "name": "stdout",
     "output_type": "stream",
     "text": [
      "Downloading data from https://storage.googleapis.com/tensorflow/tf-keras-datasets/imdb.npz\n",
      "17465344/17464789 [==============================] - 5s 0us/step\n"
     ]
    }
   ],
   "source": [
    "NUM_WORDS = 10000\n",
    "\n",
    "(train_data, train_labels), (test_data, test_labels) = keras.datasets.imdb.load_data(num_words=NUM_WORDS)\n",
    "\n",
    "def multi_hot_sequences(sequences, dimension):\n",
    "    # Create an all-zero matrix of shape (len(sequences), dimension)\n",
    "    results = np.zeros((len(sequences), dimension))\n",
    "    for i, word_indices in enumerate(sequences):\n",
    "        results[i, word_indices] = 1.0  # set specific indices of results[i] to 1s\n",
    "    return results\n",
    "\n",
    "\n",
    "train_data = multi_hot_sequences(train_data, dimension=NUM_WORDS)\n",
    "test_data = multi_hot_sequences(test_data, dimension=NUM_WORDS)"
   ]
  },
  {
   "cell_type": "markdown",
   "metadata": {
    "colab_type": "text",
    "id": "MzWVeXe3NBTn"
   },
   "source": [
    "Let's look at one of the resulting multi-hot vectors. The word indices are sorted by frequency, so it is expected that there are more 1-values near index zero, as we can see in this plot:"
   ]
  },
  {
   "cell_type": "code",
   "execution_count": 5,
   "metadata": {
    "colab": {},
    "colab_type": "code",
    "id": "71kr5rG4LkGM"
   },
   "outputs": [
    {
     "data": {
      "text/plain": [
       "[<matplotlib.lines.Line2D at 0x64fdc9850>]"
      ]
     },
     "execution_count": 5,
     "metadata": {},
     "output_type": "execute_result"
    },
    {
     "data": {
      "image/png": "[encoded data removed]",
      "text/plain": [
       "<Figure size 432x288 with 1 Axes>"
      ]
     },
     "metadata": {
      "needs_background": "light"
     },
     "output_type": "display_data"
    }
   ],
   "source": [
    "plt.plot(train_data[0])"
   ]
  },
  {
   "cell_type": "markdown",
   "metadata": {
    "colab_type": "text",
    "id": "lglk41MwvU5o"
   },
   "source": [
    "## Demonstrate overfitting\n",
    "\n",
    "The simplest way to prevent overfitting is to reduce the size of the model, i.e. the number of learnable parameters in the model (which is determined by the number of layers and the number of units per layer). In deep learning, the number of learnable parameters in a model is often referred to as the model's \"capacity\". Intuitively, a model with more parameters will have more \"memorization capacity\" and therefore will be able to easily learn a perfect dictionary-like mapping between training samples and their targets, a mapping without any generalization power, but this would be useless when making predictions on previously unseen data.\n",
    "\n",
    "Always keep this in mind: deep learning models tend to be good at fitting to the training data, but the real challenge is generalization, not fitting.\n",
    "\n",
    "On the other hand, if the network has limited memorization resources, it will not be able to learn the mapping as easily. To minimize its loss, it will have to learn compressed representations that have more predictive power. At the same time, if you make your model too small, it will have difficulty fitting to the training data. There is a balance between \"too much capacity\" and \"not enough capacity\".\n",
    "\n",
    "Unfortunately, there is no magical formula to determine the right size or architecture of your model (in terms of the number of layers, or the right size for each layer). You will have to experiment using a series of different architectures.\n",
    "\n",
    "To find an appropriate model size, it's best to start with relatively few layers and parameters, then begin increasing the size of the layers or adding new layers until you see diminishing returns on the validation loss. Let's try this on our movie review classification network.\n",
    "\n",
    "We'll create a simple model using only ```Dense``` layers as a baseline, then create smaller and larger versions, and compare them."
   ]
  },
  {
   "cell_type": "markdown",
   "metadata": {
    "colab_type": "text",
    "id": "_ReKHdC2EgVu"
   },
   "source": [
    "### Create a baseline model"
   ]
  },
  {
   "cell_type": "code",
   "execution_count": 6,
   "metadata": {
    "colab": {},
    "colab_type": "code",
    "id": "QKgdXPx9usBa"
   },
   "outputs": [
    {
     "name": "stdout",
     "output_type": "stream",
     "text": [
      "Model: \"sequential\"\n",
      "_________________________________________________________________\n",
      "Layer (type)                 Output Shape              Param #   \n",
      "=================================================================\n",
      "dense (Dense)                (None, 16)                160016    \n",
      "_________________________________________________________________\n",
      "dense_1 (Dense)              (None, 16)                272       \n",
      "_________________________________________________________________\n",
      "dense_2 (Dense)              (None, 1)                 17        \n",
      "=================================================================\n",
      "Total params: 160,305\n",
      "Trainable params: 160,305\n",
      "Non-trainable params: 0\n",
      "_________________________________________________________________\n"
     ]
    }
   ],
   "source": [
    "baseline_model = keras.Sequential([\n",
    "    # `input_shape` is only required here so that `.summary` works.\n",
    "    keras.layers.Dense(16, activation='relu', input_shape=(NUM_WORDS,)),\n",
    "    keras.layers.Dense(16, activation='relu'),\n",
    "    keras.layers.Dense(1, activation='sigmoid')\n",
    "])\n",
    "\n",
    "baseline_model.compile(optimizer='adam',\n",
    "                       loss='binary_crossentropy',\n",
    "                       metrics=['accuracy', 'binary_crossentropy'])\n",
    "\n",
    "baseline_model.summary()"
   ]
  },
  {
   "cell_type": "code",
   "execution_count": 7,
   "metadata": {
    "colab": {},
    "colab_type": "code",
    "id": "LqG3MXF5xSjR"
   },
   "outputs": [
    {
     "name": "stdout",
     "output_type": "stream",
     "text": [
      "Train on 25000 samples, validate on 25000 samples\n",
      "Epoch 1/20\n",
      "25000/25000 - 4s - loss: 0.4677 - accuracy: 0.8155 - binary_crossentropy: 0.4677 - val_loss: 0.3257 - val_accuracy: 0.8788 - val_binary_crossentropy: 0.3257\n",
      "Epoch 2/20\n",
      "25000/25000 - 2s - loss: 0.2389 - accuracy: 0.9137 - binary_crossentropy: 0.2389 - val_loss: 0.2825 - val_accuracy: 0.8873 - val_binary_crossentropy: 0.2825\n",
      "Epoch 3/20\n",
      "25000/25000 - 2s - loss: 0.1752 - accuracy: 0.9386 - binary_crossentropy: 0.1752 - val_loss: 0.2939 - val_accuracy: 0.8831 - val_binary_crossentropy: 0.2939\n",
      "Epoch 4/20\n",
      "25000/25000 - 2s - loss: 0.1399 - accuracy: 0.9519 - binary_crossentropy: 0.1399 - val_loss: 0.3178 - val_accuracy: 0.8783 - val_binary_crossentropy: 0.3178\n",
      "Epoch 5/20\n",
      "25000/25000 - 2s - loss: 0.1147 - accuracy: 0.9633 - binary_crossentropy: 0.1147 - val_loss: 0.3505 - val_accuracy: 0.8731 - val_binary_crossentropy: 0.3505\n",
      "Epoch 6/20\n",
      "25000/25000 - 2s - loss: 0.0964 - accuracy: 0.9694 - binary_crossentropy: 0.0964 - val_loss: 0.3860 - val_accuracy: 0.8678 - val_binary_crossentropy: 0.3860\n",
      "Epoch 7/20\n",
      "25000/25000 - 2s - loss: 0.0789 - accuracy: 0.9764 - binary_crossentropy: 0.0789 - val_loss: 0.4221 - val_accuracy: 0.8658 - val_binary_crossentropy: 0.4221\n",
      "Epoch 8/20\n",
      "25000/25000 - 2s - loss: 0.0664 - accuracy: 0.9820 - binary_crossentropy: 0.0664 - val_loss: 0.4696 - val_accuracy: 0.8613 - val_binary_crossentropy: 0.4696\n",
      "Epoch 9/20\n",
      "25000/25000 - 2s - loss: 0.0554 - accuracy: 0.9859 - binary_crossentropy: 0.0554 - val_loss: 0.5149 - val_accuracy: 0.8575 - val_binary_crossentropy: 0.5149\n",
      "Epoch 10/20\n",
      "25000/25000 - 2s - loss: 0.0439 - accuracy: 0.9910 - binary_crossentropy: 0.0439 - val_loss: 0.5561 - val_accuracy: 0.8565 - val_binary_crossentropy: 0.5561\n",
      "Epoch 11/20\n",
      "25000/25000 - 2s - loss: 0.0356 - accuracy: 0.9936 - binary_crossentropy: 0.0356 - val_loss: 0.6042 - val_accuracy: 0.8556 - val_binary_crossentropy: 0.6042\n",
      "Epoch 12/20\n",
      "25000/25000 - 2s - loss: 0.0293 - accuracy: 0.9952 - binary_crossentropy: 0.0293 - val_loss: 0.6549 - val_accuracy: 0.8521 - val_binary_crossentropy: 0.6549\n",
      "Epoch 13/20\n",
      "25000/25000 - 2s - loss: 0.0230 - accuracy: 0.9968 - binary_crossentropy: 0.0230 - val_loss: 0.7067 - val_accuracy: 0.8512 - val_binary_crossentropy: 0.7067\n",
      "Epoch 14/20\n",
      "25000/25000 - 2s - loss: 0.0182 - accuracy: 0.9979 - binary_crossentropy: 0.0182 - val_loss: 0.7523 - val_accuracy: 0.8501 - val_binary_crossentropy: 0.7523\n",
      "Epoch 15/20\n",
      "25000/25000 - 2s - loss: 0.0144 - accuracy: 0.9990 - binary_crossentropy: 0.0144 - val_loss: 0.8177 - val_accuracy: 0.8480 - val_binary_crossentropy: 0.8177\n",
      "Epoch 16/20\n",
      "25000/25000 - 2s - loss: 0.0118 - accuracy: 0.9993 - binary_crossentropy: 0.0118 - val_loss: 0.8329 - val_accuracy: 0.8492 - val_binary_crossentropy: 0.8329\n",
      "Epoch 17/20\n",
      "25000/25000 - 2s - loss: 0.0094 - accuracy: 0.9995 - binary_crossentropy: 0.0094 - val_loss: 0.8740 - val_accuracy: 0.8486 - val_binary_crossentropy: 0.8740\n",
      "Epoch 18/20\n",
      "25000/25000 - 2s - loss: 0.0076 - accuracy: 0.9996 - binary_crossentropy: 0.0076 - val_loss: 0.8983 - val_accuracy: 0.8482 - val_binary_crossentropy: 0.8983\n",
      "Epoch 19/20\n",
      "25000/25000 - 2s - loss: 0.0061 - accuracy: 0.9997 - binary_crossentropy: 0.0061 - val_loss: 0.9392 - val_accuracy: 0.8479 - val_binary_crossentropy: 0.9392\n",
      "Epoch 20/20\n",
      "25000/25000 - 2s - loss: 0.0050 - accuracy: 0.9998 - binary_crossentropy: 0.0050 - val_loss: 0.9652 - val_accuracy: 0.8481 - val_binary_crossentropy: 0.9652\n"
     ]
    }
   ],
   "source": [
    "baseline_history = baseline_model.fit(train_data,\n",
    "                                      train_labels,\n",
    "                                      epochs=20,\n",
    "                                      batch_size=512,\n",
    "                                      validation_data=(test_data, test_labels),\n",
    "                                      verbose=2)"
   ]
  },
  {
   "cell_type": "markdown",
   "metadata": {
    "colab_type": "text",
    "id": "L-DGRBbGxI6G"
   },
   "source": [
    "### Create a smaller model"
   ]
  },
  {
   "cell_type": "markdown",
   "metadata": {
    "colab_type": "text",
    "id": "SrfoVQheYSO5"
   },
   "source": [
    "Let's create a model with less hidden units to compare against the baseline model that we just created:"
   ]
  },
  {
   "cell_type": "code",
   "execution_count": 8,
   "metadata": {
    "colab": {},
    "colab_type": "code",
    "id": "jksi-XtaxDAh"
   },
   "outputs": [
    {
     "name": "stdout",
     "output_type": "stream",
     "text": [
      "Model: \"sequential_1\"\n",
      "_________________________________________________________________\n",
      "Layer (type)                 Output Shape              Param #   \n",
      "=================================================================\n",
      "dense_3 (Dense)              (None, 4)                 40004     \n",
      "_________________________________________________________________\n",
      "dense_4 (Dense)              (None, 4)                 20        \n",
      "_________________________________________________________________\n",
      "dense_5 (Dense)              (None, 1)                 5         \n",
      "=================================================================\n",
      "Total params: 40,029\n",
      "Trainable params: 40,029\n",
      "Non-trainable params: 0\n",
      "_________________________________________________________________\n"
     ]
    }
   ],
   "source": [
    "smaller_model = keras.Sequential([\n",
    "    keras.layers.Dense(4, activation='relu', input_shape=(NUM_WORDS,)),\n",
    "    keras.layers.Dense(4, activation='relu'),\n",
    "    keras.layers.Dense(1, activation='sigmoid')\n",
    "])\n",
    "\n",
    "smaller_model.compile(optimizer='adam',\n",
    "                      loss='binary_crossentropy',\n",
    "                      metrics=['accuracy', 'binary_crossentropy'])\n",
    "\n",
    "smaller_model.summary()"
   ]
  },
  {
   "cell_type": "markdown",
   "metadata": {
    "colab_type": "text",
    "id": "jbngCZliYdma"
   },
   "source": [
    "And train the model using the same data:"
   ]
  },
  {
   "cell_type": "code",
   "execution_count": 9,
   "metadata": {
    "colab": {},
    "colab_type": "code",
    "id": "Ofn1AwDhx-Fe"
   },
   "outputs": [
    {
     "name": "stdout",
     "output_type": "stream",
     "text": [
      "Train on 25000 samples, validate on 25000 samples\n",
      "Epoch 1/20\n",
      "25000/25000 - 2s - loss: 0.6119 - accuracy: 0.6555 - binary_crossentropy: 0.6119 - val_loss: 0.5294 - val_accuracy: 0.7931 - val_binary_crossentropy: 0.5294\n",
      "Epoch 2/20\n",
      "25000/25000 - 2s - loss: 0.4792 - accuracy: 0.8569 - binary_crossentropy: 0.4792 - val_loss: 0.4844 - val_accuracy: 0.8419 - val_binary_crossentropy: 0.4844\n",
      "Epoch 3/20\n",
      "25000/25000 - 2s - loss: 0.4307 - accuracy: 0.9018 - binary_crossentropy: 0.4307 - val_loss: 0.4667 - val_accuracy: 0.8546 - val_binary_crossentropy: 0.4667\n",
      "Epoch 4/20\n",
      "25000/25000 - 2s - loss: 0.3988 - accuracy: 0.9225 - binary_crossentropy: 0.3988 - val_loss: 0.4541 - val_accuracy: 0.8671 - val_binary_crossentropy: 0.4541\n",
      "Epoch 5/20\n",
      "25000/25000 - 2s - loss: 0.3732 - accuracy: 0.9391 - binary_crossentropy: 0.3732 - val_loss: 0.4529 - val_accuracy: 0.8616 - val_binary_crossentropy: 0.4529\n",
      "Epoch 6/20\n",
      "25000/25000 - 1s - loss: 0.3520 - accuracy: 0.9480 - binary_crossentropy: 0.3520 - val_loss: 0.4461 - val_accuracy: 0.8674 - val_binary_crossentropy: 0.4461\n",
      "Epoch 7/20\n",
      "25000/25000 - 2s - loss: 0.3328 - accuracy: 0.9560 - binary_crossentropy: 0.3328 - val_loss: 0.4417 - val_accuracy: 0.8694 - val_binary_crossentropy: 0.4417\n",
      "Epoch 8/20\n",
      "25000/25000 - 2s - loss: 0.3163 - accuracy: 0.9617 - binary_crossentropy: 0.3163 - val_loss: 0.4511 - val_accuracy: 0.8639 - val_binary_crossentropy: 0.4511\n",
      "Epoch 9/20\n",
      "25000/25000 - 2s - loss: 0.3001 - accuracy: 0.9672 - binary_crossentropy: 0.3001 - val_loss: 0.4558 - val_accuracy: 0.8619 - val_binary_crossentropy: 0.4558\n",
      "Epoch 10/20\n",
      "25000/25000 - 2s - loss: 0.2860 - accuracy: 0.9705 - binary_crossentropy: 0.2860 - val_loss: 0.4577 - val_accuracy: 0.8617 - val_binary_crossentropy: 0.4577\n",
      "Epoch 11/20\n",
      "25000/25000 - 2s - loss: 0.2732 - accuracy: 0.9735 - binary_crossentropy: 0.2732 - val_loss: 0.4729 - val_accuracy: 0.8592 - val_binary_crossentropy: 0.4729\n",
      "Epoch 12/20\n",
      "25000/25000 - 2s - loss: 0.2609 - accuracy: 0.9770 - binary_crossentropy: 0.2609 - val_loss: 0.4601 - val_accuracy: 0.8618 - val_binary_crossentropy: 0.4601\n",
      "Epoch 13/20\n",
      "25000/25000 - 2s - loss: 0.2498 - accuracy: 0.9786 - binary_crossentropy: 0.2498 - val_loss: 0.4620 - val_accuracy: 0.8618 - val_binary_crossentropy: 0.4620\n",
      "Epoch 14/20\n",
      "25000/25000 - 2s - loss: 0.2393 - accuracy: 0.9808 - binary_crossentropy: 0.2393 - val_loss: 0.4851 - val_accuracy: 0.8584 - val_binary_crossentropy: 0.4851\n",
      "Epoch 15/20\n",
      "25000/25000 - 2s - loss: 0.2301 - accuracy: 0.9818 - binary_crossentropy: 0.2301 - val_loss: 0.4730 - val_accuracy: 0.8608 - val_binary_crossentropy: 0.4730\n",
      "Epoch 16/20\n",
      "25000/25000 - 2s - loss: 0.2212 - accuracy: 0.9832 - binary_crossentropy: 0.2212 - val_loss: 0.5020 - val_accuracy: 0.8584 - val_binary_crossentropy: 0.5020\n",
      "Epoch 17/20\n",
      "25000/25000 - 2s - loss: 0.2126 - accuracy: 0.9840 - binary_crossentropy: 0.2126 - val_loss: 0.5009 - val_accuracy: 0.8576 - val_binary_crossentropy: 0.5009\n",
      "Epoch 18/20\n",
      "25000/25000 - 2s - loss: 0.2048 - accuracy: 0.9846 - binary_crossentropy: 0.2048 - val_loss: 0.5245 - val_accuracy: 0.8557 - val_binary_crossentropy: 0.5245\n",
      "Epoch 19/20\n",
      "25000/25000 - 2s - loss: 0.1978 - accuracy: 0.9849 - binary_crossentropy: 0.1978 - val_loss: 0.5058 - val_accuracy: 0.8581 - val_binary_crossentropy: 0.5058\n",
      "Epoch 20/20\n",
      "25000/25000 - 1s - loss: 0.1911 - accuracy: 0.9854 - binary_crossentropy: 0.1911 - val_loss: 0.5140 - val_accuracy: 0.8576 - val_binary_crossentropy: 0.5140\n"
     ]
    }
   ],
   "source": [
    "smaller_history = smaller_model.fit(train_data,\n",
    "                                    train_labels,\n",
    "                                    epochs=20,\n",
    "                                    batch_size=512,\n",
    "                                    validation_data=(test_data, test_labels),\n",
    "                                    verbose=2)"
   ]
  },
  {
   "cell_type": "markdown",
   "metadata": {
    "colab_type": "text",
    "id": "vIPuf23FFaVn"
   },
   "source": [
    "### Create a bigger model\n",
    "\n",
    "As an exercise, you can create an even larger model, and see how quickly it begins overfitting.  Next, let's add to this benchmark a network that has much more capacity, far more than the problem would warrant:"
   ]
  },
  {
   "cell_type": "code",
   "execution_count": 10,
   "metadata": {
    "colab": {},
    "colab_type": "code",
    "id": "ghQwwqwqvQM9"
   },
   "outputs": [
    {
     "name": "stdout",
     "output_type": "stream",
     "text": [
      "Model: \"sequential_2\"\n",
      "_________________________________________________________________\n",
      "Layer (type)                 Output Shape              Param #   \n",
      "=================================================================\n",
      "dense_6 (Dense)              (None, 512)               5120512   \n",
      "_________________________________________________________________\n",
      "dense_7 (Dense)              (None, 512)               262656    \n",
      "_________________________________________________________________\n",
      "dense_8 (Dense)              (None, 1)                 513       \n",
      "=================================================================\n",
      "Total params: 5,383,681\n",
      "Trainable params: 5,383,681\n",
      "Non-trainable params: 0\n",
      "_________________________________________________________________\n"
     ]
    }
   ],
   "source": [
    "bigger_model = keras.models.Sequential([\n",
    "    keras.layers.Dense(512, activation='relu', input_shape=(NUM_WORDS,)),\n",
    "    keras.layers.Dense(512, activation='relu'),\n",
    "    keras.layers.Dense(1, activation='sigmoid')\n",
    "])\n",
    "\n",
    "bigger_model.compile(optimizer='adam',\n",
    "                     loss='binary_crossentropy',\n",
    "                     metrics=['accuracy','binary_crossentropy'])\n",
    "\n",
    "bigger_model.summary()"
   ]
  },
  {
   "cell_type": "markdown",
   "metadata": {
    "colab_type": "text",
    "id": "D-d-i5DaYmr7"
   },
   "source": [
    "And, again, train the model using the same data:"
   ]
  },
  {
   "cell_type": "code",
   "execution_count": 11,
   "metadata": {
    "colab": {},
    "colab_type": "code",
    "id": "U1A99dhqvepf"
   },
   "outputs": [
    {
     "name": "stdout",
     "output_type": "stream",
     "text": [
      "Train on 25000 samples, validate on 25000 samples\n",
      "Epoch 1/20\n",
      "25000/25000 - 5s - loss: 0.3462 - accuracy: 0.8554 - binary_crossentropy: 0.3462 - val_loss: 0.2948 - val_accuracy: 0.8782 - val_binary_crossentropy: 0.2948\n",
      "Epoch 2/20\n",
      "25000/25000 - 5s - loss: 0.1379 - accuracy: 0.9486 - binary_crossentropy: 0.1379 - val_loss: 0.3259 - val_accuracy: 0.8757 - val_binary_crossentropy: 0.3259\n",
      "Epoch 3/20\n",
      "25000/25000 - 6s - loss: 0.0438 - accuracy: 0.9871 - binary_crossentropy: 0.0438 - val_loss: 0.4290 - val_accuracy: 0.8719 - val_binary_crossentropy: 0.4290\n",
      "Epoch 4/20\n",
      "25000/25000 - 5s - loss: 0.0065 - accuracy: 0.9991 - binary_crossentropy: 0.0065 - val_loss: 0.5712 - val_accuracy: 0.8711 - val_binary_crossentropy: 0.5712\n",
      "Epoch 5/20\n",
      "25000/25000 - 5s - loss: 0.0012 - accuracy: 1.0000 - binary_crossentropy: 0.0012 - val_loss: 0.6607 - val_accuracy: 0.8719 - val_binary_crossentropy: 0.6607\n",
      "Epoch 6/20\n",
      "25000/25000 - 5s - loss: 2.2954e-04 - accuracy: 1.0000 - binary_crossentropy: 2.2954e-04 - val_loss: 0.7090 - val_accuracy: 0.8720 - val_binary_crossentropy: 0.7090\n",
      "Epoch 7/20\n",
      "25000/25000 - 5s - loss: 1.3784e-04 - accuracy: 1.0000 - binary_crossentropy: 1.3784e-04 - val_loss: 0.7390 - val_accuracy: 0.8721 - val_binary_crossentropy: 0.7390\n",
      "Epoch 8/20\n",
      "25000/25000 - 5s - loss: 9.7393e-05 - accuracy: 1.0000 - binary_crossentropy: 9.7393e-05 - val_loss: 0.7633 - val_accuracy: 0.8721 - val_binary_crossentropy: 0.7633\n",
      "Epoch 9/20\n",
      "25000/25000 - 5s - loss: 7.2717e-05 - accuracy: 1.0000 - binary_crossentropy: 7.2717e-05 - val_loss: 0.7839 - val_accuracy: 0.8720 - val_binary_crossentropy: 0.7839\n",
      "Epoch 10/20\n",
      "25000/25000 - 5s - loss: 5.6561e-05 - accuracy: 1.0000 - binary_crossentropy: 5.6561e-05 - val_loss: 0.8028 - val_accuracy: 0.8721 - val_binary_crossentropy: 0.8028\n",
      "Epoch 11/20\n",
      "25000/25000 - 5s - loss: 4.5053e-05 - accuracy: 1.0000 - binary_crossentropy: 4.5053e-05 - val_loss: 0.8194 - val_accuracy: 0.8724 - val_binary_crossentropy: 0.8194\n",
      "Epoch 12/20\n",
      "25000/25000 - 5s - loss: 3.6613e-05 - accuracy: 1.0000 - binary_crossentropy: 3.6613e-05 - val_loss: 0.8356 - val_accuracy: 0.8724 - val_binary_crossentropy: 0.8356\n",
      "Epoch 13/20\n",
      "25000/25000 - 5s - loss: 3.0252e-05 - accuracy: 1.0000 - binary_crossentropy: 3.0252e-05 - val_loss: 0.8502 - val_accuracy: 0.8725 - val_binary_crossentropy: 0.8502\n",
      "Epoch 14/20\n",
      "25000/25000 - 5s - loss: 2.5349e-05 - accuracy: 1.0000 - binary_crossentropy: 2.5349e-05 - val_loss: 0.8640 - val_accuracy: 0.8726 - val_binary_crossentropy: 0.8640\n",
      "Epoch 15/20\n",
      "25000/25000 - 5s - loss: 2.1483e-05 - accuracy: 1.0000 - binary_crossentropy: 2.1483e-05 - val_loss: 0.8785 - val_accuracy: 0.8723 - val_binary_crossentropy: 0.8785\n",
      "Epoch 16/20\n",
      "25000/25000 - 5s - loss: 1.8397e-05 - accuracy: 1.0000 - binary_crossentropy: 1.8397e-05 - val_loss: 0.8902 - val_accuracy: 0.8725 - val_binary_crossentropy: 0.8902\n",
      "Epoch 17/20\n",
      "25000/25000 - 5s - loss: 1.5905e-05 - accuracy: 1.0000 - binary_crossentropy: 1.5905e-05 - val_loss: 0.9026 - val_accuracy: 0.8721 - val_binary_crossentropy: 0.9026\n",
      "Epoch 18/20\n",
      "25000/25000 - 6s - loss: 1.3847e-05 - accuracy: 1.0000 - binary_crossentropy: 1.3847e-05 - val_loss: 0.9131 - val_accuracy: 0.8725 - val_binary_crossentropy: 0.9131\n",
      "Epoch 19/20\n",
      "25000/25000 - 6s - loss: 1.2146e-05 - accuracy: 1.0000 - binary_crossentropy: 1.2146e-05 - val_loss: 0.9240 - val_accuracy: 0.8722 - val_binary_crossentropy: 0.9240\n",
      "Epoch 20/20\n",
      "25000/25000 - 5s - loss: 1.0732e-05 - accuracy: 1.0000 - binary_crossentropy: 1.0732e-05 - val_loss: 0.9343 - val_accuracy: 0.8722 - val_binary_crossentropy: 0.9343\n"
     ]
    }
   ],
   "source": [
    "bigger_history = bigger_model.fit(train_data, train_labels,\n",
    "                                  epochs=20,\n",
    "                                  batch_size=512,\n",
    "                                  validation_data=(test_data, test_labels),\n",
    "                                  verbose=2)"
   ]
  },
  {
   "cell_type": "markdown",
   "metadata": {
    "colab_type": "text",
    "id": "Fy3CMUZpzH3d"
   },
   "source": [
    "### Plot the training and validation loss\n",
    "\n",
    "<!--TODO(markdaoust): This should be a one-liner with tensorboard -->"
   ]
  },
  {
   "cell_type": "markdown",
   "metadata": {
    "colab_type": "text",
    "id": "HSlo1F4xHuuM"
   },
   "source": [
    "The solid lines show the training loss, and the dashed lines show the validation loss (remember: a lower validation loss indicates a better model). Here, the smaller network begins overfitting later than the baseline model (after 6 epochs rather than 4) and its performance degrades much more slowly once it starts overfitting."
   ]
  },
  {
   "cell_type": "code",
   "execution_count": 12,
   "metadata": {
    "colab": {},
    "colab_type": "code",
    "id": "0XmKDtOWzOpk"
   },
   "outputs": [
    {
     "data": {
      "image/png": "[encoded data removed]",
      "text/plain": [
       "<Figure size 1152x720 with 1 Axes>"
      ]
     },
     "metadata": {
      "needs_background": "light"
     },
     "output_type": "display_data"
    }
   ],
   "source": [
    "def plot_history(histories, key='binary_crossentropy'):\n",
    "  plt.figure(figsize=(16,10))\n",
    "\n",
    "  for name, history in histories:\n",
    "    val = plt.plot(history.epoch, history.history['val_'+key],\n",
    "                   '--', label=name.title()+' Val')\n",
    "    plt.plot(history.epoch, history.history[key], color=val[0].get_color(),\n",
    "             label=name.title()+' Train')\n",
    "\n",
    "  plt.xlabel('Epochs')\n",
    "  plt.ylabel(key.replace('_',' ').title())\n",
    "  plt.legend()\n",
    "\n",
    "  plt.xlim([0,max(history.epoch)])\n",
    "\n",
    "\n",
    "plot_history([('baseline', baseline_history),\n",
    "              ('smaller', smaller_history),\n",
    "              ('bigger', bigger_history)])"
   ]
  },
  {
   "cell_type": "markdown",
   "metadata": {
    "colab_type": "text",
    "id": "Bi6hBhdnSfjA"
   },
   "source": [
    "Notice that the larger network begins overfitting almost right away, after just one epoch, and overfits much more severely. The more capacity the network has, the quicker it will be able to model the training data (resulting in a low training loss), but the more susceptible it is to overfitting (resulting in a large difference between the training and validation loss)."
   ]
  },
  {
   "cell_type": "markdown",
   "metadata": {
    "colab_type": "text",
    "id": "ASdv7nsgEFhx"
   },
   "source": [
    "## Strategies to prevent overfitting"
   ]
  },
  {
   "cell_type": "markdown",
   "metadata": {
    "colab_type": "text",
    "id": "4rHoVWcswFLa"
   },
   "source": [
    "### Add weight regularization\n",
    "\n"
   ]
  },
  {
   "cell_type": "markdown",
   "metadata": {
    "colab_type": "text",
    "id": "kRxWepNawbBK"
   },
   "source": [
    "You may be familiar with Occam's Razor principle: given two explanations for something, the explanation most likely to be correct is the \"simplest\" one, the one that makes the least amount of assumptions. This also applies to the models learned by neural networks: given some training data and a network architecture, there are multiple sets of weights values (multiple models) that could explain the data, and simpler models are less likely to overfit than complex ones.\n",
    "\n",
    "A \"simple model\" in this context is a model where the distribution of parameter values has less entropy (or a model with fewer parameters altogether, as we saw in the section above). Thus a common way to mitigate overfitting is to put constraints on the complexity of a network by forcing its weights only to take small values, which makes the distribution of weight values more \"regular\". This is called \"weight regularization\", and it is done by adding to the loss function of the network a cost associated with having large weights. This cost comes in two flavors:\n",
    "\n",
    "* [L1 regularization](https://developers.google.com/machine-learning/glossary/#L1_regularization), where the cost added is proportional to the absolute value of the weights coefficients (i.e. to what is called the \"L1 norm\" of the weights).\n",
    "\n",
    "* [L2 regularization](https://developers.google.com/machine-learning/glossary/#L2_regularization), where the cost added is proportional to the square of the value of the weights coefficients (i.e. to what is called the squared \"L2 norm\" of the weights). L2 regularization is also called weight decay in the context of neural networks. Don't let the different name confuse you: weight decay is mathematically the exact same as L2 regularization.\n",
    "\n",
    "L1 regularization introduces sparsity to make some of your weight parameters zero. L2 regularization will penalize the weights parameters without making them sparse—one reason why L2 is more common.\n",
    "\n",
    "In `tf.keras`, weight regularization is added by passing weight regularizer instances to layers as keyword arguments. Let's add L2 weight regularization now."
   ]
  },
  {
   "cell_type": "code",
   "execution_count": 13,
   "metadata": {
    "colab": {},
    "colab_type": "code",
    "id": "HFGmcwduwVyQ"
   },
   "outputs": [
    {
     "name": "stdout",
     "output_type": "stream",
     "text": [
      "Train on 25000 samples, validate on 25000 samples\n",
      "Epoch 1/20\n",
      "25000/25000 - 3s - loss: 0.5535 - accuracy: 0.7941 - binary_crossentropy: 0.5134 - val_loss: 0.4154 - val_accuracy: 0.8722 - val_binary_crossentropy: 0.3738\n",
      "Epoch 2/20\n",
      "25000/25000 - 2s - loss: 0.3342 - accuracy: 0.9038 - binary_crossentropy: 0.2871 - val_loss: 0.3461 - val_accuracy: 0.8865 - val_binary_crossentropy: 0.2949\n",
      "Epoch 3/20\n",
      "25000/25000 - 2s - loss: 0.2725 - accuracy: 0.9250 - binary_crossentropy: 0.2186 - val_loss: 0.3399 - val_accuracy: 0.8867 - val_binary_crossentropy: 0.2844\n",
      "Epoch 4/20\n",
      "25000/25000 - 2s - loss: 0.2464 - accuracy: 0.9340 - binary_crossentropy: 0.1894 - val_loss: 0.3474 - val_accuracy: 0.8832 - val_binary_crossentropy: 0.2893\n",
      "Epoch 5/20\n",
      "25000/25000 - 2s - loss: 0.2277 - accuracy: 0.9426 - binary_crossentropy: 0.1689 - val_loss: 0.3541 - val_accuracy: 0.8828 - val_binary_crossentropy: 0.2950\n",
      "Epoch 6/20\n",
      "25000/25000 - 2s - loss: 0.2161 - accuracy: 0.9478 - binary_crossentropy: 0.1562 - val_loss: 0.3638 - val_accuracy: 0.8792 - val_binary_crossentropy: 0.3036\n",
      "Epoch 7/20\n",
      "25000/25000 - 2s - loss: 0.2077 - accuracy: 0.9502 - binary_crossentropy: 0.1468 - val_loss: 0.3757 - val_accuracy: 0.8754 - val_binary_crossentropy: 0.3145\n",
      "Epoch 8/20\n",
      "25000/25000 - 2s - loss: 0.1984 - accuracy: 0.9559 - binary_crossentropy: 0.1369 - val_loss: 0.3870 - val_accuracy: 0.8740 - val_binary_crossentropy: 0.3254\n",
      "Epoch 9/20\n",
      "25000/25000 - 2s - loss: 0.1921 - accuracy: 0.9575 - binary_crossentropy: 0.1300 - val_loss: 0.4071 - val_accuracy: 0.8694 - val_binary_crossentropy: 0.3447\n",
      "Epoch 10/20\n",
      "25000/25000 - 2s - loss: 0.1888 - accuracy: 0.9582 - binary_crossentropy: 0.1260 - val_loss: 0.4133 - val_accuracy: 0.8698 - val_binary_crossentropy: 0.3500\n",
      "Epoch 11/20\n",
      "25000/25000 - 2s - loss: 0.1815 - accuracy: 0.9607 - binary_crossentropy: 0.1179 - val_loss: 0.4208 - val_accuracy: 0.8690 - val_binary_crossentropy: 0.3571\n",
      "Epoch 12/20\n",
      "25000/25000 - 2s - loss: 0.1777 - accuracy: 0.9626 - binary_crossentropy: 0.1137 - val_loss: 0.4342 - val_accuracy: 0.8652 - val_binary_crossentropy: 0.3699\n",
      "Epoch 13/20\n",
      "25000/25000 - 2s - loss: 0.1750 - accuracy: 0.9629 - binary_crossentropy: 0.1101 - val_loss: 0.4454 - val_accuracy: 0.8640 - val_binary_crossentropy: 0.3803\n",
      "Epoch 14/20\n",
      "25000/25000 - 2s - loss: 0.1681 - accuracy: 0.9666 - binary_crossentropy: 0.1031 - val_loss: 0.4614 - val_accuracy: 0.8632 - val_binary_crossentropy: 0.3964\n",
      "Epoch 15/20\n",
      "25000/25000 - 2s - loss: 0.1654 - accuracy: 0.9683 - binary_crossentropy: 0.0999 - val_loss: 0.4698 - val_accuracy: 0.8610 - val_binary_crossentropy: 0.4041\n",
      "Epoch 16/20\n",
      "25000/25000 - 2s - loss: 0.1621 - accuracy: 0.9689 - binary_crossentropy: 0.0964 - val_loss: 0.4819 - val_accuracy: 0.8604 - val_binary_crossentropy: 0.4157\n",
      "Epoch 17/20\n",
      "25000/25000 - 2s - loss: 0.1581 - accuracy: 0.9711 - binary_crossentropy: 0.0919 - val_loss: 0.4883 - val_accuracy: 0.8591 - val_binary_crossentropy: 0.4223\n",
      "Epoch 18/20\n",
      "25000/25000 - 2s - loss: 0.1612 - accuracy: 0.9689 - binary_crossentropy: 0.0943 - val_loss: 0.5040 - val_accuracy: 0.8582 - val_binary_crossentropy: 0.4365\n",
      "Epoch 19/20\n",
      "25000/25000 - 2s - loss: 0.1576 - accuracy: 0.9695 - binary_crossentropy: 0.0902 - val_loss: 0.5151 - val_accuracy: 0.8569 - val_binary_crossentropy: 0.4475\n",
      "Epoch 20/20\n",
      "25000/25000 - 2s - loss: 0.1525 - accuracy: 0.9723 - binary_crossentropy: 0.0846 - val_loss: 0.5230 - val_accuracy: 0.8568 - val_binary_crossentropy: 0.4552\n"
     ]
    }
   ],
   "source": [
    "l2_model = keras.models.Sequential([\n",
    "    keras.layers.Dense(16, kernel_regularizer=keras.regularizers.l2(0.001),\n",
    "                       activation='relu', input_shape=(NUM_WORDS,)),\n",
    "    keras.layers.Dense(16, kernel_regularizer=keras.regularizers.l2(0.001),\n",
    "                       activation='relu'),\n",
    "    keras.layers.Dense(1, activation='sigmoid')\n",
    "])\n",
    "\n",
    "l2_model.compile(optimizer='adam',\n",
    "                 loss='binary_crossentropy',\n",
    "                 metrics=['accuracy', 'binary_crossentropy'])\n",
    "\n",
    "l2_model_history = l2_model.fit(train_data, train_labels,\n",
    "                                epochs=20,\n",
    "                                batch_size=512,\n",
    "                                validation_data=(test_data, test_labels),\n",
    "                                verbose=2)"
   ]
  },
  {
   "cell_type": "markdown",
   "metadata": {
    "colab_type": "text",
    "id": "bUUHoXb7w-_C"
   },
   "source": [
    "```l2(0.001)``` means that every coefficient in the weight matrix of the layer will add ```0.001 * weight_coefficient_value**2``` to the total loss of the network. Note that because this penalty is only added at training time, the loss for this network will be much higher at training than at test time.\n",
    "\n",
    "Here's the impact of our L2 regularization penalty:"
   ]
  },
  {
   "cell_type": "code",
   "execution_count": 14,
   "metadata": {
    "colab": {},
    "colab_type": "code",
    "id": "7wkfLyxBZdh_"
   },
   "outputs": [
    {
     "data": {
      "image/png": "[encoded data removed]",
      "text/plain": [
       "<Figure size 1152x720 with 1 Axes>"
      ]
     },
     "metadata": {
      "needs_background": "light"
     },
     "output_type": "display_data"
    }
   ],
   "source": [
    "plot_history([('baseline', baseline_history),\n",
    "              ('l2', l2_model_history)])"
   ]
  },
  {
   "cell_type": "markdown",
   "metadata": {
    "colab_type": "text",
    "id": "Kx1YHMsVxWjP"
   },
   "source": [
    "As you can see, the L2 regularized model has become much more resistant to overfitting than the baseline model, even though both models have the same number of parameters."
   ]
  },
  {
   "cell_type": "markdown",
   "metadata": {
    "colab_type": "text",
    "id": "HmnBNOOVxiG8"
   },
   "source": [
    "### Add dropout\n",
    "\n",
    "Dropout is one of the most effective and most commonly used regularization techniques for neural networks, developed by Hinton and his students at the University of Toronto. Dropout, applied to a layer, consists of randomly \"dropping out\" (i.e. set to zero) a number of output features of the layer during training. Let's say a given layer would normally have returned a vector [0.2, 0.5, 1.3, 0.8, 1.1] for a given input sample during training; after applying dropout, this vector will have a few zero entries distributed at random, e.g. [0, 0.5,\n",
    "1.3, 0, 1.1]. The \"dropout rate\" is the fraction of the features that are being zeroed-out; it is usually set between 0.2 and 0.5. At test time, no units are dropped out, and instead the layer's output values are scaled down by a factor equal to the dropout rate, so as to balance for the fact that more units are active than at training time.\n",
    "\n",
    "In tf.keras you can introduce dropout in a network via the Dropout layer, which gets applied to the output of layer right before.\n",
    "\n",
    "Let's add two Dropout layers in our IMDB network to see how well they do at reducing overfitting:"
   ]
  },
  {
   "cell_type": "code",
   "execution_count": null,
   "metadata": {
    "colab": {},
    "colab_type": "code",
    "id": "OFEYvtrHxSWS"
   },
   "outputs": [
    {
     "name": "stdout",
     "output_type": "stream",
     "text": [
      "Train on 25000 samples, validate on 25000 samples\n",
      "Epoch 1/20\n",
      "25000/25000 - 2s - loss: 0.6341 - accuracy: 0.6374 - binary_crossentropy: 0.6341 - val_loss: 0.5369 - val_accuracy: 0.8358 - val_binary_crossentropy: 0.5369\n",
      "Epoch 2/20\n",
      "25000/25000 - 2s - loss: 0.4953 - accuracy: 0.8136 - binary_crossentropy: 0.4953 - val_loss: 0.3927 - val_accuracy: 0.8795 - val_binary_crossentropy: 0.3927\n",
      "Epoch 3/20\n",
      "25000/25000 - 2s - loss: 0.3856 - accuracy: 0.8728 - binary_crossentropy: 0.3856 - val_loss: 0.3225 - val_accuracy: 0.8876 - val_binary_crossentropy: 0.3225\n",
      "Epoch 4/20\n"
     ]
    }
   ],
   "source": [
    "dpt_model = keras.models.Sequential([\n",
    "    keras.layers.Dense(16, activation='relu', input_shape=(NUM_WORDS,)),\n",
    "    keras.layers.Dropout(0.5),\n",
    "    keras.layers.Dense(16, activation='relu'),\n",
    "    keras.layers.Dropout(0.5),\n",
    "    keras.layers.Dense(1, activation='sigmoid')\n",
    "])\n",
    "\n",
    "dpt_model.compile(optimizer='adam',\n",
    "                  loss='binary_crossentropy',\n",
    "                  metrics=['accuracy','binary_crossentropy'])\n",
    "\n",
    "dpt_model_history = dpt_model.fit(train_data, train_labels,\n",
    "                                  epochs=20,\n",
    "                                  batch_size=512,\n",
    "                                  validation_data=(test_data, test_labels),\n",
    "                                  verbose=2)"
   ]
  },
  {
   "cell_type": "code",
   "execution_count": null,
   "metadata": {
    "colab": {},
    "colab_type": "code",
    "id": "SPZqwVchx5xp"
   },
   "outputs": [],
   "source": [
    "plot_history([('baseline', baseline_history),\n",
    "              ('dropout', dpt_model_history)])"
   ]
  },
  {
   "cell_type": "markdown",
   "metadata": {
    "colab_type": "text",
    "id": "gjfnkEeQyAFG"
   },
   "source": [
    "Adding dropout is a clear improvement over the baseline model.\n",
    "\n",
    "To recap: here are the most common ways to prevent overfitting in neural networks:\n",
    "\n",
    "* Get more training data.\n",
    "* Reduce the capacity of the network.\n",
    "* Add weight regularization.\n",
    "* Add dropout.\n",
    "\n",
    "And two important approaches not covered in this guide are data-augmentation and batch normalization."
   ]
  }
 ],
 "metadata": {
  "accelerator": "GPU",
  "colab": {
   "collapsed_sections": [
    "fTFj8ft5dlbS"
   ],
   "name": "overfit_and_underfit.ipynb",
   "private_outputs": true,
   "provenance": [],
   "toc_visible": true,
   "version": "0.3.2"
  },
  "kernelspec": {
   "display_name": "Python 3",
   "language": "python",
   "name": "python3"
  },
  "language_info": {
   "codemirror_mode": {
    "name": "ipython",
    "version": 3
   },
   "file_extension": ".py",
   "mimetype": "text/x-python",
   "name": "python",
   "nbconvert_exporter": "python",
   "pygments_lexer": "ipython3",
   "version": "3.7.4"
  }
 },
 "nbformat": 4,
 "nbformat_minor": 1
}
